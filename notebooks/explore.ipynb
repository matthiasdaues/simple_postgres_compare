{
 "cells": [
  {
   "cell_type": "code",
   "execution_count": 1,
   "id": "0fd8b649",
   "metadata": {},
   "outputs": [],
   "source": [
    "from src.python import utils as utils\n",
    "from datetime import datetime\n",
    "from src.python import functions as functions   \n",
    "\n",
    "#queries = utils.get_queries()\n",
    "#conn = utils.connect_to_db()\n",
    "date_series = utils.create_date_series(\"2025-01-01\", \"2025-01-10\")"
   ]
  },
  {
   "cell_type": "code",
   "execution_count": 4,
   "id": "132d5780",
   "metadata": {},
   "outputs": [
    {
     "name": "stdout",
     "output_type": "stream",
     "text": [
      "['2025-01-01', '2025-01-02', '2025-01-03', '2025-01-04', '2025-01-05', '2025-01-06', '2025-01-07', '2025-01-08', '2025-01-09', '2025-01-10']\n"
     ]
    }
   ],
   "source": [
    "#print(conn.dsn)\n",
    "#print(queries)\n",
    "print(date_series)"
   ]
  },
  {
   "cell_type": "code",
   "execution_count": null,
   "id": "d42ed842-ceb3-4f3e-b64b-bddef39c9ddd",
   "metadata": {},
   "outputs": [],
   "source": []
  }
 ],
 "metadata": {
  "kernelspec": {
   "display_name": "python_data_science_template-u2tGlg_8-py3.10",
   "language": "python",
   "name": "python3"
  },
  "language_info": {
   "codemirror_mode": {
    "name": "ipython",
    "version": 3
   },
   "file_extension": ".py",
   "mimetype": "text/x-python",
   "name": "python",
   "nbconvert_exporter": "python",
   "pygments_lexer": "ipython3",
   "version": "3.10.12"
  }
 },
 "nbformat": 4,
 "nbformat_minor": 5
}
